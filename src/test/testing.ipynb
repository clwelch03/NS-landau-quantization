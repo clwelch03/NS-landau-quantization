{
 "cells": [
  {
   "cell_type": "code",
   "execution_count": 1,
   "metadata": {},
   "outputs": [],
   "source": [
    "include(\"../processes/Urca.jl\")\n",
    "using .Urca"
   ]
  },
  {
   "cell_type": "code",
   "execution_count": null,
   "metadata": {},
   "outputs": [],
   "source": [
    "emissivity_plot(1e17, 0.001; mu_range=[960, 1060], include_MUrca=true, mageos=true, include_BY=true, spin_split=true, nuc_inter=true, thermal_population=true, analytical_approx=false, Mred_in_int=false, points=100)"
   ]
  },
  {
   "cell_type": "code",
   "execution_count": 1,
   "metadata": {},
   "outputs": [],
   "source": [
    "include(\"../processes/CrossSection.jl\")\n",
    "using .CrossSection"
   ]
  },
  {
   "cell_type": "code",
   "execution_count": 2,
   "metadata": {},
   "outputs": [
    {
     "name": "stdout",
     "output_type": "stream",
     "text": [
      "951.1571137075717 940.523456403972 71.09665478054403\n"
     ]
    },
    {
     "data": {
      "text/plain": [
       "5.2181819529356484e-64"
      ]
     },
     "metadata": {},
     "output_type": "display_data"
    }
   ],
   "source": [
    "σ(\"n\", (197.3^3*0.16*0.1), 0.1, 15, 0, 1e17, 1)"
   ]
  }
 ],
 "metadata": {
  "kernelspec": {
   "display_name": "Julia 1.10.5",
   "language": "julia",
   "name": "julia-1.10"
  },
  "language_info": {
   "file_extension": ".jl",
   "mimetype": "application/julia",
   "name": "julia",
   "version": "1.10.5"
  }
 },
 "nbformat": 4,
 "nbformat_minor": 2
}
